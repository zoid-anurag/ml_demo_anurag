{
 "cells": [
  {
   "cell_type": "code",
   "execution_count": 2,
   "id": "1512ccbf",
   "metadata": {},
   "outputs": [
    {
     "name": "stdout",
     "output_type": "stream",
     "text": [
      "Requirement already satisfied: dvc in /home/ec2-user/anaconda3/envs/python3/lib/python3.6/site-packages (2.6.4)\n",
      "Requirement already satisfied: tabulate>=0.8.7 in /home/ec2-user/anaconda3/envs/python3/lib/python3.6/site-packages (from dvc) (0.8.9)\n",
      "Requirement already satisfied: importlib-metadata>=1.4 in /home/ec2-user/anaconda3/envs/python3/lib/python3.6/site-packages (from dvc) (3.7.0)\n",
      "Requirement already satisfied: diskcache>=5.2.1 in /home/ec2-user/anaconda3/envs/python3/lib/python3.6/site-packages (from dvc) (5.2.1)\n",
      "Requirement already satisfied: colorama>=0.3.9 in /home/ec2-user/anaconda3/envs/python3/lib/python3.6/site-packages (from dvc) (0.4.3)\n",
      "Requirement already satisfied: appdirs>=1.4.3 in /home/ec2-user/anaconda3/envs/python3/lib/python3.6/site-packages (from dvc) (1.4.4)\n",
      "Requirement already satisfied: nanotime>=0.5.2 in /home/ec2-user/anaconda3/envs/python3/lib/python3.6/site-packages (from dvc) (0.5.2)\n",
      "Requirement already satisfied: gitpython>3 in /home/ec2-user/anaconda3/envs/python3/lib/python3.6/site-packages (from dvc) (3.1.18)\n",
      "Requirement already satisfied: dataclasses==0.7 in /home/ec2-user/anaconda3/envs/python3/lib/python3.6/site-packages (from dvc) (0.7)\n",
      "Requirement already satisfied: python-benedict>=0.21.1 in /home/ec2-user/anaconda3/envs/python3/lib/python3.6/site-packages (from dvc) (0.24.2)\n",
      "Requirement already satisfied: pathspec<0.9.0,>=0.6.0 in /home/ec2-user/anaconda3/envs/python3/lib/python3.6/site-packages (from dvc) (0.8.1)\n",
      "Requirement already satisfied: dpath<3,>=2.0.1 in /home/ec2-user/anaconda3/envs/python3/lib/python3.6/site-packages (from dvc) (2.0.1)\n",
      "Requirement already satisfied: setuptools>=34.0.0 in /home/ec2-user/anaconda3/envs/python3/lib/python3.6/site-packages (from dvc) (49.6.0.post20210108)\n",
      "Requirement already satisfied: pygit2>=1.5.0 in /home/ec2-user/anaconda3/envs/python3/lib/python3.6/site-packages (from dvc) (1.6.1)\n",
      "Requirement already satisfied: requests>=2.22.0 in /home/ec2-user/anaconda3/envs/python3/lib/python3.6/site-packages (from dvc) (2.25.1)\n",
      "Requirement already satisfied: toml>=0.10.1 in /home/ec2-user/anaconda3/envs/python3/lib/python3.6/site-packages (from dvc) (0.10.2)\n",
      "Requirement already satisfied: tqdm<5,>=4.45.0 in /home/ec2-user/anaconda3/envs/python3/lib/python3.6/site-packages (from dvc) (4.61.2)\n",
      "Requirement already satisfied: shtab<2,>=1.3.4 in /home/ec2-user/anaconda3/envs/python3/lib/python3.6/site-packages (from dvc) (1.4.0)\n",
      "Requirement already satisfied: dictdiffer>=0.8.1 in /home/ec2-user/anaconda3/envs/python3/lib/python3.6/site-packages (from dvc) (0.9.0)\n",
      "Requirement already satisfied: psutil>=5.8.0 in /home/ec2-user/anaconda3/envs/python3/lib/python3.6/site-packages (from dvc) (5.8.0)\n",
      "Requirement already satisfied: ply>=3.9 in /home/ec2-user/anaconda3/envs/python3/lib/python3.6/site-packages (from dvc) (3.11)\n",
      "Requirement already satisfied: fsspec>=2021.7.0 in /home/ec2-user/anaconda3/envs/python3/lib/python3.6/site-packages (from dvc) (2021.7.0)\n",
      "Requirement already satisfied: shortuuid>=0.5.0 in /home/ec2-user/anaconda3/envs/python3/lib/python3.6/site-packages (from dvc) (1.0.1)\n",
      "Requirement already satisfied: pydot>=1.2.4 in /home/ec2-user/anaconda3/envs/python3/lib/python3.6/site-packages (from dvc) (1.4.2)\n",
      "Requirement already satisfied: flatten-dict<1,>=0.4.1 in /home/ec2-user/anaconda3/envs/python3/lib/python3.6/site-packages (from dvc) (0.4.2)\n",
      "Requirement already satisfied: dulwich>=0.20.23 in /home/ec2-user/anaconda3/envs/python3/lib/python3.6/site-packages (from dvc) (0.20.25)\n",
      "Requirement already satisfied: packaging>=19.0 in /home/ec2-user/anaconda3/envs/python3/lib/python3.6/site-packages (from dvc) (20.9)\n",
      "Requirement already satisfied: pyparsing==2.4.7 in /home/ec2-user/anaconda3/envs/python3/lib/python3.6/site-packages (from dvc) (2.4.7)\n",
      "Requirement already satisfied: zc.lockfile>=1.2.1 in /home/ec2-user/anaconda3/envs/python3/lib/python3.6/site-packages (from dvc) (2.0)\n",
      "Requirement already satisfied: grandalf==0.6 in /home/ec2-user/anaconda3/envs/python3/lib/python3.6/site-packages (from dvc) (0.6)\n",
      "Requirement already satisfied: pygtrie>=2.3.2 in /home/ec2-user/anaconda3/envs/python3/lib/python3.6/site-packages (from dvc) (2.4.2)\n",
      "Requirement already satisfied: typing-extensions>=3.7.4 in /home/ec2-user/anaconda3/envs/python3/lib/python3.6/site-packages (from dvc) (3.7.4.3)\n",
      "Requirement already satisfied: networkx>=2.5 in /home/ec2-user/anaconda3/envs/python3/lib/python3.6/site-packages (from dvc) (2.5)\n",
      "Requirement already satisfied: configobj>=5.0.6 in /home/ec2-user/anaconda3/envs/python3/lib/python3.6/site-packages (from dvc) (5.0.6)\n",
      "Requirement already satisfied: voluptuous>=0.11.7 in /home/ec2-user/anaconda3/envs/python3/lib/python3.6/site-packages (from dvc) (0.12.1)\n",
      "Requirement already satisfied: rich>=10.0.0 in /home/ec2-user/anaconda3/envs/python3/lib/python3.6/site-packages (from dvc) (10.7.0)\n",
      "Requirement already satisfied: funcy>=1.14 in /home/ec2-user/anaconda3/envs/python3/lib/python3.6/site-packages (from dvc) (1.16)\n",
      "Requirement already satisfied: ruamel.yaml>=0.17.11 in /home/ec2-user/anaconda3/envs/python3/lib/python3.6/site-packages (from dvc) (0.17.13)\n",
      "Requirement already satisfied: flufl.lock<4,>=3.2 in /home/ec2-user/anaconda3/envs/python3/lib/python3.6/site-packages (from dvc) (3.2)\n",
      "Requirement already satisfied: pyasn1>=0.4.1 in /home/ec2-user/anaconda3/envs/python3/lib/python3.6/site-packages (from dvc) (0.4.8)\n",
      "Requirement already satisfied: distro>=1.3.0 in /home/ec2-user/anaconda3/envs/python3/lib/python3.6/site-packages (from dvc) (1.6.0)\n",
      "Requirement already satisfied: future in /home/ec2-user/anaconda3/envs/python3/lib/python3.6/site-packages (from grandalf==0.6->dvc) (0.18.2)\n",
      "Requirement already satisfied: six in /home/ec2-user/anaconda3/envs/python3/lib/python3.6/site-packages (from configobj>=5.0.6->dvc) (1.15.0)\n",
      "Requirement already satisfied: certifi in /home/ec2-user/anaconda3/envs/python3/lib/python3.6/site-packages (from dulwich>=0.20.23->dvc) (2021.5.30)\n",
      "Requirement already satisfied: urllib3>=1.24.1 in /home/ec2-user/anaconda3/envs/python3/lib/python3.6/site-packages (from dulwich>=0.20.23->dvc) (1.26.6)\n",
      "Requirement already satisfied: atpublic in /home/ec2-user/anaconda3/envs/python3/lib/python3.6/site-packages (from flufl.lock<4,>=3.2->dvc) (2.3)\n",
      "Requirement already satisfied: gitdb<5,>=4.0.1 in /home/ec2-user/anaconda3/envs/python3/lib/python3.6/site-packages (from gitpython>3->dvc) (4.0.7)\n",
      "Requirement already satisfied: smmap<5,>=3.0.1 in /home/ec2-user/anaconda3/envs/python3/lib/python3.6/site-packages (from gitdb<5,>=4.0.1->gitpython>3->dvc) (4.0.0)\n",
      "Requirement already satisfied: zipp>=0.5 in /home/ec2-user/anaconda3/envs/python3/lib/python3.6/site-packages (from importlib-metadata>=1.4->dvc) (3.4.0)\n",
      "Requirement already satisfied: decorator>=4.3.0 in /home/ec2-user/anaconda3/envs/python3/lib/python3.6/site-packages (from networkx>=2.5->dvc) (4.4.2)\n",
      "Requirement already satisfied: cffi>=1.4.0 in /home/ec2-user/anaconda3/envs/python3/lib/python3.6/site-packages (from pygit2>=1.5.0->dvc) (1.14.5)\n",
      "Requirement already satisfied: cached-property in /home/ec2-user/anaconda3/envs/python3/lib/python3.6/site-packages (from pygit2>=1.5.0->dvc) (1.5.1)\n",
      "Requirement already satisfied: pycparser in /home/ec2-user/anaconda3/envs/python3/lib/python3.6/site-packages (from cffi>=1.4.0->pygit2>=1.5.0->dvc) (2.20)\n",
      "Requirement already satisfied: mailchecker in /home/ec2-user/anaconda3/envs/python3/lib/python3.6/site-packages (from python-benedict>=0.21.1->dvc) (4.0.11)\n",
      "Requirement already satisfied: phonenumbers in /home/ec2-user/anaconda3/envs/python3/lib/python3.6/site-packages (from python-benedict>=0.21.1->dvc) (8.12.31)\n",
      "Requirement already satisfied: python-dateutil in /home/ec2-user/anaconda3/envs/python3/lib/python3.6/site-packages (from python-benedict>=0.21.1->dvc) (2.8.1)\n",
      "Requirement already satisfied: python-slugify in /home/ec2-user/anaconda3/envs/python3/lib/python3.6/site-packages (from python-benedict>=0.21.1->dvc) (5.0.2)\n",
      "Requirement already satisfied: ftfy in /home/ec2-user/anaconda3/envs/python3/lib/python3.6/site-packages (from python-benedict>=0.21.1->dvc) (6.0.3)\n",
      "Requirement already satisfied: pyyaml in /home/ec2-user/anaconda3/envs/python3/lib/python3.6/site-packages (from python-benedict>=0.21.1->dvc) (5.4.1)\n",
      "Requirement already satisfied: xmltodict in /home/ec2-user/anaconda3/envs/python3/lib/python3.6/site-packages (from python-benedict>=0.21.1->dvc) (0.12.0)\n",
      "Requirement already satisfied: python-fsutil in /home/ec2-user/anaconda3/envs/python3/lib/python3.6/site-packages (from python-benedict>=0.21.1->dvc) (0.5.0)\n",
      "Requirement already satisfied: chardet<5,>=3.0.2 in /home/ec2-user/anaconda3/envs/python3/lib/python3.6/site-packages (from requests>=2.22.0->dvc) (3.0.4)\n",
      "Requirement already satisfied: idna<3,>=2.5 in /home/ec2-user/anaconda3/envs/python3/lib/python3.6/site-packages (from requests>=2.22.0->dvc) (2.10)\n",
      "Requirement already satisfied: commonmark<0.10.0,>=0.9.0 in /home/ec2-user/anaconda3/envs/python3/lib/python3.6/site-packages (from rich>=10.0.0->dvc) (0.9.1)\n",
      "Requirement already satisfied: pygments<3.0.0,>=2.6.0 in /home/ec2-user/anaconda3/envs/python3/lib/python3.6/site-packages (from rich>=10.0.0->dvc) (2.8.0)\n",
      "Requirement already satisfied: ruamel.yaml.clib>=0.1.2 in /home/ec2-user/anaconda3/envs/python3/lib/python3.6/site-packages (from ruamel.yaml>=0.17.11->dvc) (0.2.6)\n",
      "Requirement already satisfied: wcwidth in /home/ec2-user/anaconda3/envs/python3/lib/python3.6/site-packages (from ftfy->python-benedict>=0.21.1->dvc) (0.2.5)\n",
      "Requirement already satisfied: text-unidecode>=1.3 in /home/ec2-user/anaconda3/envs/python3/lib/python3.6/site-packages (from python-slugify->python-benedict>=0.21.1->dvc) (1.3)\n",
      "\u001b[33mWARNING: You are using pip version 21.1.3; however, version 21.2.4 is available.\n",
      "You should consider upgrading via the '/home/ec2-user/anaconda3/envs/python3/bin/python -m pip install --upgrade pip' command.\u001b[0m\n"
     ]
    }
   ],
   "source": [
    "!pip install dvc"
   ]
  },
  {
   "cell_type": "code",
   "execution_count": 2,
   "id": "7ca5b7c0",
   "metadata": {},
   "outputs": [
    {
     "name": "stdout",
     "output_type": "stream",
     "text": [
      "/home/ec2-user/SageMaker/ml_demo_anurag/notebooks\n"
     ]
    }
   ],
   "source": [
    "!pwd"
   ]
  },
  {
   "cell_type": "code",
   "execution_count": null,
   "id": "e0f26892",
   "metadata": {},
   "outputs": [],
   "source": []
  }
 ],
 "metadata": {
  "kernelspec": {
   "display_name": "conda_python3",
   "language": "python",
   "name": "conda_python3"
  },
  "language_info": {
   "codemirror_mode": {
    "name": "ipython",
    "version": 3
   },
   "file_extension": ".py",
   "mimetype": "text/x-python",
   "name": "python",
   "nbconvert_exporter": "python",
   "pygments_lexer": "ipython3",
   "version": "3.6.13"
  }
 },
 "nbformat": 4,
 "nbformat_minor": 5
}

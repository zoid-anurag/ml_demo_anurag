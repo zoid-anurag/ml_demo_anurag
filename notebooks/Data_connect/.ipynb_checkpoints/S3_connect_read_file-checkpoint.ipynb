{
 "cells": [
  {
   "cell_type": "markdown",
   "id": "2b730d1e",
   "metadata": {},
   "source": [
    "# How to read parquet file by connecting to s3 bucket and reading parquet file. "
   ]
  },
  {
   "cell_type": "markdown",
   "id": "add5540f",
   "metadata": {},
   "source": [
    "## With pyathena"
   ]
  },
  {
   "cell_type": "markdown",
   "id": "dcaea110",
   "metadata": {},
   "source": [
    "###### import pandas as pd\n"
   ]
  },
  {
   "cell_type": "code",
   "execution_count": null,
   "id": "582142d3",
   "metadata": {},
   "outputs": [],
   "source": []
  }
 ],
 "metadata": {
  "kernelspec": {
   "display_name": "conda_python3",
   "language": "python",
   "name": "conda_python3"
  },
  "language_info": {
   "codemirror_mode": {
    "name": "ipython",
    "version": 3
   },
   "file_extension": ".py",
   "mimetype": "text/x-python",
   "name": "python",
   "nbconvert_exporter": "python",
   "pygments_lexer": "ipython3",
   "version": "3.6.13"
  }
 },
 "nbformat": 4,
 "nbformat_minor": 5
}
